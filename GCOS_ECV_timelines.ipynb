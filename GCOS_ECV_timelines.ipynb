{
  "nbformat": 4,
  "nbformat_minor": 0,
  "metadata": {
    "kernelspec": {
      "display_name": "Python 3",
      "language": "python",
      "name": "python3"
    },
    "language_info": {
      "codemirror_mode": {
        "name": "ipython",
        "version": 3
      },
      "file_extension": ".py",
      "mimetype": "text/x-python",
      "name": "python",
      "nbconvert_exporter": "python",
      "pygments_lexer": "ipython3",
      "version": "3.5.2"
    },
    "colab": {
      "name": "GCOS ECV timelines.ipynb",
      "provenance": [],
      "collapsed_sections": [
        "QsKWKGL-7jU5",
        "F4XrW2aEbaX5",
        "x4eJfqBrojFQ",
        "1CpQuOtc7jVH",
        "9NAxiGycUe6K"
      ],
      "include_colab_link": true
    }
  },
  "cells": [
    {
      "cell_type": "markdown",
      "metadata": {
        "id": "view-in-github",
        "colab_type": "text"
      },
      "source": [
        "<a href=\"https://colab.research.google.com/github/libbyrose/ceos-db-toolkit/blob/main/GCOS_ECV_timelines.ipynb\" target=\"_parent\"><img src=\"https://colab.research.google.com/assets/colab-badge.svg\" alt=\"Open In Colab\"/></a>"
      ]
    },
    {
      "cell_type": "markdown",
      "metadata": {
        "id": "QsKWKGL-7jU5"
      },
      "source": [
        "## Background\n",
        "\n",
        "<i>This notebook outputs a timeline based on the specified GCOS ECV\n",
        "\n",
        "\n",
        "(Gantt chart adapted from: https://sukhbinder.wordpress.com/2016/05/10/quick-gantt-chart-with-matplotlib/)</i>"
      ]
    },
    {
      "cell_type": "code",
      "metadata": {
        "collapsed": true,
        "id": "jME6e4KQ7jU-"
      },
      "source": [
        "# Import API-related modules\n",
        "import requests\n",
        "import json\n",
        "\n",
        "# Import for Quick Gantt Chart with Matplotlib example.\n",
        "import datetime as dt\n",
        "import matplotlib.pyplot as plt\n",
        "import matplotlib.patches as mpatches\n",
        "import matplotlib.font_manager as font_manager\n",
        "import matplotlib.dates\n",
        "from matplotlib.dates import WEEKLY,MONTHLY,YEARLY, DateFormatter, rrulewrapper, RRuleLocator \n",
        "import numpy as np\n",
        "\n",
        "# Import to sort mission dates.\n",
        "from operator import itemgetter, attrgetter\n",
        "\n",
        "#Import for date conversion.\n",
        "from dateutil import parser\n",
        "import datetime\n",
        "import time\n",
        "\n",
        "#Import for SQL tables\n",
        "import pandas as pd\n",
        "from pandas import DataFrame\n"
      ],
      "execution_count": null,
      "outputs": []
    },
    {
      "cell_type": "markdown",
      "metadata": {
        "id": "xq_kUz7N8-ij"
      },
      "source": [
        "## Connect to Google Drive and the database"
      ]
    },
    {
      "cell_type": "code",
      "metadata": {
        "colab": {
          "base_uri": "https://localhost:8080/"
        },
        "id": "SR9_m4sSVkqu",
        "outputId": "c56a9703-ece1-49fe-cc1c-6d8f8d2ec9b2"
      },
      "source": [
        "from google.colab import drive\n",
        "drive.mount('/content/drive')"
      ],
      "execution_count": null,
      "outputs": [
        {
          "output_type": "stream",
          "name": "stdout",
          "text": [
            "Mounted at /content/drive\n"
          ]
        }
      ]
    },
    {
      "cell_type": "markdown",
      "metadata": {
        "id": "3cVs828fVpo9"
      },
      "source": [
        "Specify the path to yml file contating database access information"
      ]
    },
    {
      "cell_type": "code",
      "metadata": {
        "colab": {
          "base_uri": "https://localhost:8080/"
        },
        "id": "Y6y7BOBWbIJS",
        "outputId": "7e081697-8bc4-4a07-bbf7-3d9f2124fb46"
      },
      "source": [
        "# Specify the path in your local drive (use !ls and !pwd to hunt for it)\n",
        "#Libby path: config_path='/content/drive/MyDrive/MIM Colab/config-libby.yml'\n",
        "#George path:\n",
        "config_path='/content/drive/MyDrive/Colab-MIM Notebooks/config.yml'\n",
        "print('Getting CEOS Dev DB Config from: ' + config_path)"
      ],
      "execution_count": null,
      "outputs": [
        {
          "output_type": "stream",
          "name": "stdout",
          "text": [
            "Getting CEOS Dev DB Config from: /content/drive/MyDrive/Colab-MIM Notebooks/config.yml\n"
          ]
        }
      ]
    },
    {
      "cell_type": "markdown",
      "metadata": {
        "id": "F4XrW2aEbaX5"
      },
      "source": [
        "#### Save access information"
      ]
    },
    {
      "cell_type": "code",
      "metadata": {
        "id": "4Eg_rvNB73ga"
      },
      "source": [
        "# Define SECRET database connection variables (MIM Dev DB on AWS RDS)\n",
        "# Like YAML here: https://veekaybee.github.io/2020/02/25/secrets/\n",
        "import yaml\n",
        "\n",
        "with open(config_path, 'r') as ymlfile:\n",
        "    cfg = yaml.safe_load(ymlfile)\n",
        "\n",
        "user = cfg['ceos_dev_db']['user']\n",
        "password = cfg['ceos_dev_db']['password']\n",
        "database = cfg['ceos_dev_db']['database']\n",
        "server = cfg['ceos_dev_db']['server']"
      ],
      "execution_count": null,
      "outputs": []
    },
    {
      "cell_type": "markdown",
      "metadata": {
        "id": "x4eJfqBrojFQ"
      },
      "source": [
        "#### Install DB Access Layer\n",
        "\n",
        "A few code blocks to setup the necessary software to access the CEOS DB.\n",
        "\n",
        "Define basic functions to access CEOS DB."
      ]
    },
    {
      "cell_type": "code",
      "metadata": {
        "id": "wc5LTL3N8ZXR",
        "colab": {
          "base_uri": "https://localhost:8080/"
        },
        "outputId": "000398db-00a3-4211-9052-a3940cc294b4"
      },
      "source": [
        "# CHECK YOUR ODC COLAB VIRTUAL MACHINE IP ADDRESS\n",
        "# The CEOS Dev DB is protected by whitelisting due to lots of attempts to query it\n",
        "# Whitelisting means you can only connect from certain IP addresses\n",
        "\n",
        "# Used this command to find the IP address of the Colab notebook (VM)\n",
        "!curl ifconfig.me\n",
        "\n",
        "# THE FOLLOWING RANGES HAVE BEEN WHITELISTED TO CONNECT TO THE AWS DATABASE\n",
        "# 34.xxx.xxx.xxx\n",
        "# 35.xxx.xxx.xxx\n",
        "# 104.xxx.xxx.xxx\n",
        "\n",
        "# IF YOUR VM IP IS NOT IN THIS RANGE* THEN IT WILL HAVE TO BE ADDED TO THE WHITELIST BEFORE IT WILL WORK (CONTACT GEORGE)\n",
        "# * As a work around, you could start a new Colab notebook (VM) to see if you can get an IP address in the whitelist range."
      ],
      "execution_count": null,
      "outputs": [
        {
          "output_type": "stream",
          "name": "stdout",
          "text": [
            "34.73.183.161"
          ]
        }
      ]
    },
    {
      "cell_type": "code",
      "metadata": {
        "id": "ZrYUWet-8cax",
        "colab": {
          "base_uri": "https://localhost:8080/"
        },
        "outputId": "fcba4f21-8241-4326-b2ef-14225ebe0946"
      },
      "source": [
        "# Run this block to install the necessary DB interface code\n",
        "\n",
        "%%sh\n",
        "curl https://packages.microsoft.com/keys/microsoft.asc | apt-key add -\n",
        "curl https://packages.microsoft.com/config/ubuntu/16.04/prod.list > /etc/apt/sources.list.d/mssql-release.list\n",
        "\n",
        "sudo apt-get update\n",
        "sudo ACCEPT_EULA=Y apt-get -q -y install msodbcsql17"
      ],
      "execution_count": null,
      "outputs": [
        {
          "output_type": "stream",
          "name": "stdout",
          "text": [
            "OK\n",
            "Get:1 http://security.ubuntu.com/ubuntu bionic-security InRelease [88.7 kB]\n",
            "Get:2 https://packages.microsoft.com/ubuntu/16.04/prod xenial InRelease [4,003 B]\n",
            "Get:3 https://cloud.r-project.org/bin/linux/ubuntu bionic-cran40/ InRelease [3,626 B]\n",
            "Ign:4 https://developer.download.nvidia.com/compute/cuda/repos/ubuntu1804/x86_64  InRelease\n",
            "Hit:5 http://ppa.launchpad.net/c2d4u.team/c2d4u4.0+/ubuntu bionic InRelease\n",
            "Ign:6 https://developer.download.nvidia.com/compute/machine-learning/repos/ubuntu1804/x86_64  InRelease\n",
            "Hit:7 https://developer.download.nvidia.com/compute/cuda/repos/ubuntu1804/x86_64  Release\n",
            "Hit:8 http://archive.ubuntu.com/ubuntu bionic InRelease\n",
            "Hit:9 https://developer.download.nvidia.com/compute/machine-learning/repos/ubuntu1804/x86_64  Release\n",
            "Get:10 https://packages.microsoft.com/ubuntu/16.04/prod xenial/main amd64 Packages [258 kB]\n",
            "Get:11 http://archive.ubuntu.com/ubuntu bionic-updates InRelease [88.7 kB]\n",
            "Hit:12 http://ppa.launchpad.net/cran/libgit2/ubuntu bionic InRelease\n",
            "Get:13 http://security.ubuntu.com/ubuntu bionic-security/main amd64 Packages [2,367 kB]\n",
            "Get:14 http://security.ubuntu.com/ubuntu bionic-security/restricted amd64 Packages [607 kB]\n",
            "Hit:15 http://ppa.launchpad.net/deadsnakes/ppa/ubuntu bionic InRelease\n",
            "Get:16 http://security.ubuntu.com/ubuntu bionic-security/universe amd64 Packages [1,431 kB]\n",
            "Get:17 http://archive.ubuntu.com/ubuntu bionic-backports InRelease [74.6 kB]\n",
            "Hit:18 http://ppa.launchpad.net/graphics-drivers/ppa/ubuntu bionic InRelease\n",
            "Get:21 http://archive.ubuntu.com/ubuntu bionic-updates/universe amd64 Packages [2,210 kB]\n",
            "Get:22 http://archive.ubuntu.com/ubuntu bionic-updates/main amd64 Packages [2,803 kB]\n",
            "Get:23 http://archive.ubuntu.com/ubuntu bionic-updates/restricted amd64 Packages [640 kB]\n",
            "Fetched 10.6 MB in 2s (4,420 kB/s)\n",
            "Reading package lists...\n",
            "Reading package lists...\n",
            "Building dependency tree...\n",
            "Reading state information...\n",
            "The following additional packages will be installed:\n",
            "  libodbc1 odbcinst odbcinst1debian2 unixodbc unixodbc-dev\n",
            "Suggested packages:\n",
            "  unixodbc-bin\n",
            "The following NEW packages will be installed:\n",
            "  msodbcsql17 unixodbc\n",
            "The following packages will be upgraded:\n",
            "  libodbc1 odbcinst odbcinst1debian2 unixodbc-dev\n",
            "4 upgraded, 2 newly installed, 0 to remove and 37 not upgraded.\n",
            "Need to get 1,458 kB of archives.\n",
            "After this operation, 152 kB of additional disk space will be used.\n",
            "Get:1 https://packages.microsoft.com/ubuntu/16.04/prod xenial/main amd64 odbcinst amd64 2.3.7 [12.0 kB]\n",
            "Get:2 https://packages.microsoft.com/ubuntu/16.04/prod xenial/main amd64 unixodbc-dev amd64 2.3.7 [37.1 kB]\n",
            "Get:3 https://packages.microsoft.com/ubuntu/16.04/prod xenial/main amd64 odbcinst1debian2 amd64 2.3.7 [135 kB]\n",
            "Get:4 https://packages.microsoft.com/ubuntu/16.04/prod xenial/main amd64 libodbc1 amd64 2.3.7 [511 kB]\n",
            "Get:5 https://packages.microsoft.com/ubuntu/16.04/prod xenial/main amd64 unixodbc amd64 2.3.7 [19.6 kB]\n",
            "Get:6 https://packages.microsoft.com/ubuntu/16.04/prod xenial/main amd64 msodbcsql17 amd64 17.8.1.1-1 [744 kB]\n",
            "Fetched 1,458 kB in 0s (5,708 kB/s)\n",
            "(Reading database ... \r(Reading database ... 5%\r(Reading database ... 10%\r(Reading database ... 15%\r(Reading database ... 20%\r(Reading database ... 25%\r(Reading database ... 30%\r(Reading database ... 35%\r(Reading database ... 40%\r(Reading database ... 45%\r(Reading database ... 50%\r(Reading database ... 55%\r(Reading database ... 60%\r(Reading database ... 65%\r(Reading database ... 70%\r(Reading database ... 75%\r(Reading database ... 80%\r(Reading database ... 85%\r(Reading database ... 90%\r(Reading database ... 95%\r(Reading database ... 100%\r(Reading database ... 155047 files and directories currently installed.)\r\n",
            "Preparing to unpack .../0-odbcinst_2.3.7_amd64.deb ...\r\n",
            "Unpacking odbcinst (2.3.7) over (2.3.4-1.1ubuntu3) ...\r\n",
            "Preparing to unpack .../1-unixodbc-dev_2.3.7_amd64.deb ...\r\n",
            "Unpacking unixodbc-dev (2.3.7) over (2.3.4-1.1ubuntu3) ...\r\n",
            "Preparing to unpack .../2-odbcinst1debian2_2.3.7_amd64.deb ...\r\n",
            "Unpacking odbcinst1debian2:amd64 (2.3.7) over (2.3.4-1.1ubuntu3) ...\r\n",
            "Preparing to unpack .../3-libodbc1_2.3.7_amd64.deb ...\r\n",
            "Unpacking libodbc1:amd64 (2.3.7) over (2.3.4-1.1ubuntu3) ...\r\n",
            "Selecting previously unselected package unixodbc.\r\n",
            "Preparing to unpack .../4-unixodbc_2.3.7_amd64.deb ...\r\n",
            "Unpacking unixodbc (2.3.7) ...\r\n",
            "Selecting previously unselected package msodbcsql17.\r\n",
            "Preparing to unpack .../5-msodbcsql17_17.8.1.1-1_amd64.deb ...\r\n",
            "debconf: unable to initialize frontend: Dialog\r\n",
            "debconf: (No usable dialog-like program is installed, so the dialog based frontend cannot be used. at /usr/share/perl5/Debconf/FrontEnd/Dialog.pm line 76.)\r\n",
            "debconf: falling back to frontend: Readline\r\n",
            "Unpacking msodbcsql17 (17.8.1.1-1) ...\r\n",
            "Setting up libodbc1:amd64 (2.3.7) ...\r\n",
            "Setting up odbcinst1debian2:amd64 (2.3.7) ...\r\n",
            "Setting up odbcinst (2.3.7) ...\r\n",
            "Setting up unixodbc (2.3.7) ...\r\n",
            "Setting up unixodbc-dev (2.3.7) ...\r\n",
            "Setting up msodbcsql17 (17.8.1.1-1) ...\r\n",
            "Processing triggers for libc-bin (2.27-3ubuntu1.3) ...\r\n",
            "/sbin/ldconfig.real: /usr/local/lib/python3.7/dist-packages/ideep4py/lib/libmkldnn.so.0 is not a symbolic link\r\n",
            "\r\n",
            "Processing triggers for man-db (2.8.3-2ubuntu0.1) ...\r\n"
          ]
        },
        {
          "output_type": "stream",
          "name": "stderr",
          "text": [
            "  % Total    % Received % Xferd  Average Speed   Time    Time     Time  Current\n",
            "                                 Dload  Upload   Total   Spent    Left  Speed\n",
            "\r  0     0    0     0    0     0      0      0 --:--:-- --:--:-- --:--:--     0\r100   983  100   983    0     0  10922      0 --:--:-- --:--:-- --:--:-- 10922\n",
            "Warning: apt-key output should not be parsed (stdout is not a terminal)\n",
            "  % Total    % Received % Xferd  Average Speed   Time    Time     Time  Current\n",
            "                                 Dload  Upload   Total   Spent    Left  Speed\n",
            "\r  0     0    0     0    0     0      0      0 --:--:-- --:--:-- --:--:--     0\r100    79  100    79    0     0    647      0 --:--:-- --:--:-- --:--:--   647\n",
            "debconf: unable to initialize frontend: Dialog\n",
            "debconf: (No usable dialog-like program is installed, so the dialog based frontend cannot be used. at /usr/share/perl5/Debconf/FrontEnd/Dialog.pm line 76, <> line 6.)\n",
            "debconf: falling back to frontend: Readline\n",
            "debconf: unable to initialize frontend: Readline\n",
            "debconf: (This frontend requires a controlling tty.)\n",
            "debconf: falling back to frontend: Teletype\n",
            "dpkg-preconfigure: unable to re-open stdin: \n"
          ]
        }
      ]
    },
    {
      "cell_type": "code",
      "metadata": {
        "id": "ZNrS3_TH8gZ4",
        "colab": {
          "base_uri": "https://localhost:8080/"
        },
        "outputId": "b5337556-012a-4fbe-93a4-55cba58032c6"
      },
      "source": [
        "# Run this block to install the Python library to connect to the DB\n",
        "!pip install pyodbc"
      ],
      "execution_count": null,
      "outputs": [
        {
          "output_type": "stream",
          "name": "stdout",
          "text": [
            "Collecting pyodbc\n",
            "  Downloading pyodbc-4.0.32.tar.gz (280 kB)\n",
            "\u001b[?25l\r\u001b[K     |█▏                              | 10 kB 23.6 MB/s eta 0:00:01\r\u001b[K     |██▍                             | 20 kB 13.4 MB/s eta 0:00:01\r\u001b[K     |███▌                            | 30 kB 10.6 MB/s eta 0:00:01\r\u001b[K     |████▊                           | 40 kB 9.1 MB/s eta 0:00:01\r\u001b[K     |█████▉                          | 51 kB 5.1 MB/s eta 0:00:01\r\u001b[K     |███████                         | 61 kB 5.7 MB/s eta 0:00:01\r\u001b[K     |████████▏                       | 71 kB 5.7 MB/s eta 0:00:01\r\u001b[K     |█████████▍                      | 81 kB 6.3 MB/s eta 0:00:01\r\u001b[K     |██████████▌                     | 92 kB 6.2 MB/s eta 0:00:01\r\u001b[K     |███████████▊                    | 102 kB 5.0 MB/s eta 0:00:01\r\u001b[K     |████████████▉                   | 112 kB 5.0 MB/s eta 0:00:01\r\u001b[K     |██████████████                  | 122 kB 5.0 MB/s eta 0:00:01\r\u001b[K     |███████████████▏                | 133 kB 5.0 MB/s eta 0:00:01\r\u001b[K     |████████████████▍               | 143 kB 5.0 MB/s eta 0:00:01\r\u001b[K     |█████████████████▌              | 153 kB 5.0 MB/s eta 0:00:01\r\u001b[K     |██████████████████▊             | 163 kB 5.0 MB/s eta 0:00:01\r\u001b[K     |████████████████████            | 174 kB 5.0 MB/s eta 0:00:01\r\u001b[K     |█████████████████████           | 184 kB 5.0 MB/s eta 0:00:01\r\u001b[K     |██████████████████████▎         | 194 kB 5.0 MB/s eta 0:00:01\r\u001b[K     |███████████████████████▍        | 204 kB 5.0 MB/s eta 0:00:01\r\u001b[K     |████████████████████████▋       | 215 kB 5.0 MB/s eta 0:00:01\r\u001b[K     |█████████████████████████▊      | 225 kB 5.0 MB/s eta 0:00:01\r\u001b[K     |███████████████████████████     | 235 kB 5.0 MB/s eta 0:00:01\r\u001b[K     |████████████████████████████    | 245 kB 5.0 MB/s eta 0:00:01\r\u001b[K     |█████████████████████████████▎  | 256 kB 5.0 MB/s eta 0:00:01\r\u001b[K     |██████████████████████████████▍ | 266 kB 5.0 MB/s eta 0:00:01\r\u001b[K     |███████████████████████████████▋| 276 kB 5.0 MB/s eta 0:00:01\r\u001b[K     |████████████████████████████████| 280 kB 5.0 MB/s \n",
            "\u001b[?25hBuilding wheels for collected packages: pyodbc\n",
            "  Building wheel for pyodbc (setup.py) ... \u001b[?25l\u001b[?25hdone\n",
            "  Created wheel for pyodbc: filename=pyodbc-4.0.32-cp37-cp37m-linux_x86_64.whl size=287350 sha256=441be1f6553dfc5e0a00e2a08dede4eda7357a6c9bf3413b698adcb6eddd6c3f\n",
            "  Stored in directory: /root/.cache/pip/wheels/2e/9c/da/8652fd42e0f662015554f00a9e96fe4f438dfd1ef59787879e\n",
            "Successfully built pyodbc\n",
            "Installing collected packages: pyodbc\n",
            "Successfully installed pyodbc-4.0.32\n"
          ]
        }
      ]
    },
    {
      "cell_type": "code",
      "metadata": {
        "id": "2udBnjZ_W5Uq"
      },
      "source": [
        "# This this block to import the 'pyodbc' library\n",
        "# pyodbc is used to connect Python (notebook) to the CEOS DB\n",
        "# This import statment is how we include it when we're working on a local server\n",
        "import pyodbc"
      ],
      "execution_count": null,
      "outputs": []
    },
    {
      "cell_type": "code",
      "metadata": {
        "id": "Dwj0JNEeaFMi"
      },
      "source": [
        "# Function to get DB cursor return\n",
        "def get_db_cursor(user, password, database, server, t_sql):\n",
        "  conn = pyodbc.connect(DRIVER = '{ODBC Driver 17 for SQL Server}',\n",
        "                      SERVER = server,\n",
        "                      DATABASE = database,\n",
        "                      UID = user,\n",
        "                      PWD = password)\n",
        "\n",
        "  db_cursor = conn.cursor()\n",
        "  db_cursor.execute(t_sql)\n",
        "\n",
        "  return db_cursor"
      ],
      "execution_count": null,
      "outputs": []
    },
    {
      "cell_type": "code",
      "metadata": {
        "collapsed": true,
        "id": "B1_FX8db7jU-"
      },
      "source": [
        "# Function that creates date variable.\n",
        "def _create_date(datetxt):\n",
        "    \"\"\"Creates the date\"\"\"\n",
        "    day,month,year=datetxt.split('-')\n",
        "    date = dt.datetime(int(year), int(month), int(day))\n",
        "    mdate = matplotlib.dates.date2num(date) \n",
        "    return mdate"
      ],
      "execution_count": null,
      "outputs": []
    },
    {
      "cell_type": "markdown",
      "metadata": {
        "id": "u9r02VAV7jU_"
      },
      "source": [
        "## Select required filters\n",
        "\n"
      ]
    },
    {
      "cell_type": "code",
      "metadata": {
        "id": "cLhBaAp30cAM",
        "cellView": "form"
      },
      "source": [
        "#@title Define launch and EOL date ranges\n",
        "\n",
        "launch_date_from = \"2000-09-20\" #@param {type:\"date\"}\n",
        "launch_date_to = \"2025-07-31\" #@param {type:\"date\"}\n",
        "# Launch date window (Y,M,D)\n",
        "launch_date_start = datetime.datetime(int(launch_date_from.split('-')[0]),int(launch_date_from.split('-')[1]),int(launch_date_from.split('-')[2]))\n",
        "launch_date_end = datetime.datetime(int(launch_date_to.split('-')[0]),int(launch_date_to.split('-')[1]),int(launch_date_to.split('-')[2]))\n",
        "\n",
        "tsql_launchdate = \"\"\" Missions.launchDate > \"\"\" + \"\\'\" + str(launch_date_start) + \"\\'\" + \"\"\" \n",
        "    AND Missions.launchDate < \"\"\" + \"\\'\" + str(launch_date_end) + \"\\'\"\n",
        "\n",
        "# EOL date window (Y,M,D)\n",
        "\n",
        "EOL_date_from = \"1900-07-30\" #@param {type:\"date\"}\n",
        "EOL_date_to = \"2100-07-30\" #@param {type:\"date\"}\n",
        "\n",
        "eol_date_start = datetime.datetime(int(EOL_date_from.split('-')[0]),int(EOL_date_from.split('-')[1]),int(EOL_date_from.split('-')[2]))\n",
        "eol_date_end = datetime.datetime(int(EOL_date_to.split('-')[0]),int(EOL_date_to.split('-')[1]),int(EOL_date_to.split('-')[2]))\n",
        "\n",
        "tsql_eoldate = \"\"\"Missions.eolDate > \"\"\" + \"\\'\" + str(eol_date_start) + \"\\'\" + \"\"\"\n",
        "    AND Missions.eolDate < \"\"\" + \"\\'\" + str(eol_date_end) + \"\\'\"\n",
        "\n",
        "# start of query string\n",
        "select = 'Missions.missionID, Missions.missionStatusID, Missions.launchDate, Missions.eolDate, Missions.missionNameShort'\n",
        "tables = 'Missions'\n",
        "conditions = tsql_launchdate + \"\"\"\n",
        "    AND \"\"\" + tsql_eoldate "
      ],
      "execution_count": null,
      "outputs": []
    },
    {
      "cell_type": "code",
      "metadata": {
        "id": "cB7ciW0VILL0",
        "cellView": "form"
      },
      "source": [
        "#@title Exclude specific missions\n",
        "exclude_missions = False #@param [\"True\", \"False\"] {type:\"raw\"}\n",
        "missionID_exclude = 642, 612 #@param {type:\"raw\"}\n",
        "\n",
        "if exclude_missions:\n",
        "  if len(str(missionID_exclude).split(',')) == 1:\n",
        "    tsql_missionexclude = \"(NOT (Missions.missionID IN (\" + str(missionID_exclude) + \") ))\"\n",
        "  else:\n",
        "    tsql_missionexclude = \"(NOT (Missions.missionID IN \" + str(missionID_exclude) + \" ))\"\n",
        "  \n",
        "  conditions = conditions + \"\"\"\n",
        "    AND \"\"\" + tsql_missionexclude"
      ],
      "execution_count": null,
      "outputs": []
    },
    {
      "cell_type": "code",
      "metadata": {
        "id": "BvF1QqnRG9iP",
        "cellView": "form"
      },
      "source": [
        "#@title Filter out cancelled missions (or other specific statuses)\n",
        "#@markdown List of statuses and IDs: https://docs.google.com/spreadsheets/d/13RSSiCP43_GgQl8LKeSn1jZ7yUSXiLQAgtieWKxlnLc/edit#gid=0&range=A1 \n",
        "filter_by_status = True #@param [\"True\", \"False\"] {type:\"raw\"}\n",
        "exclude_status_id = 5 #@param {type:\"raw\"}\n",
        "\n",
        "if filter_by_status:\n",
        "  if len(str(exclude_status_id).split(',')) == 1:\n",
        "    tsql_status = \"(NOT (Missions.missionStatusID IN (\" + str(exclude_status_id) + \") ))\"\n",
        "  else:\n",
        "    tsql_status = \"(NOT (Missions.missionStatusID IN \" + str(exclude_status_id) + \" ))\"\n",
        "    \n",
        "  conditions =  conditions + \"\"\"\n",
        "    AND \"\"\" + tsql_status"
      ],
      "execution_count": null,
      "outputs": []
    },
    {
      "cell_type": "code",
      "metadata": {
        "id": "ShhZ8l63WPoQ",
        "cellView": "form"
      },
      "source": [
        "#@title Filter by Agency\n",
        "filter_by_agency = False #@param [\"True\", \"False\"] {type:\"raw\"}\n",
        "agency = \"ROSKOSMOS\" #@param ['21AT', 'AAFC', 'ADS', 'AEB', 'AEM', 'AGEOS', 'ASA', 'ASI', 'ASTRIUM', 'American University of Ras Al Khaimah', 'BATC', 'BELSPO', 'BNISS', 'Bulgarian Academy of Science', 'CAST', 'CCRS', 'CDTI', 'CKI PAS (Poland)', 'CM SAF', 'CMUG', 'CNES', 'CNSA', 'COM', 'CONAE', 'CPUT', 'CRCSS', 'CRESDA', 'CRI', 'CRP-GL', 'CSA', 'CSIC', 'CSIRO', 'DARA', 'DFO', 'DLR', 'DMI', 'DND', 'DNSC', 'DOST-ASTI', 'DWD', 'Data purchase agreement', 'Digital Globe', 'DoD (USA)', 'E-LOP', 'ECCC', 'EEC', 'ESA', 'EUMETSAT', 'FAO', 'FMI', 'FUTA', 'France (CRPE)', 'GA', 'GCOS', 'GFZ', 'GHGSat', 'GISTDA', 'GLIMS', 'GOOS', 'GSFC', 'GTOS', 'GeoEye', 'HISDESAT', 'HRC', 'Harris', 'ICSU', 'IGBP', 'IGOS', 'INPE', 'INTA', 'IOC', 'IOCCG', 'IRE', 'ISA', 'ISR (Italy)', 'ISRO', 'JAXA', 'JCAB', 'JMA', 'JPL', 'JRC', 'KAI', 'KARI', 'KASI', 'KB YUZNOYE', 'KIOST', 'KMA', 'Keio University', 'Khalifa University', 'LSCE', 'Lockheed', 'MBRSC', 'MDA', 'METI', 'MITI (Japan)', 'MOE (Japan)', 'MPI', 'MYSA', 'MetNo', 'MoD (Italy)', 'NASA', 'NASDA', 'NASRDA', 'NDRCC', 'NDRE', 'NGII', 'NICT', 'NIER', 'NIES (Japan)', 'NIIRI', 'NIVR', 'NOAA', 'NOSA', 'NPO PLANETA', 'NRCAN', 'NRSCC', 'NSAU', 'NSIDC', 'NSMC-CMA', 'NSO', 'NSOAS', 'NSPO', 'NYUAD', 'ONIITT', 'OSTC', 'Orbital', 'Others (TBD)', 'PSC', 'RAL', 'ROSHYDROMET', 'ROSKARTOGRAPHIYA', 'ROSKOSMOS', 'Russia', 'SANSA', 'SAO', 'SI', 'SKTB FTINT', 'SNSA', 'SPPS', 'SRON', 'SSC', 'STA', 'Swansea Univ', 'TAS-i', 'TEKES', 'TIFR', 'TUBITAK', 'Technische Universitaet Wien', 'U.S. Naval Research Laboratory', 'UAE SA', 'UCAR', 'UCL', 'UCL-Geomatics', 'UK (RAL)', 'UK Meteorological Office', 'UKMO', 'UKSA', 'UMD', 'UNEP', 'UNOOSA', 'US Naval Research Lab', 'USAF', 'USGS', 'Uni of Stellenbosh', 'Univ of Cambridge', 'Univ of Hamburg', 'Univ of Zurich', 'University of Bergen', 'University of Chicago', 'VAST', 'WCRP', 'WMO']\n",
        "\n",
        "if filter_by_agency:\n",
        "  tsql_agency = \"Missions.missionAgencies LIKE \" + \"\\'%\" + agency + \"%\\'\" \n",
        "  conditions = conditions + \"\"\"\n",
        "    AND \"\"\" + tsql_agency  "
      ],
      "execution_count": null,
      "outputs": []
    },
    {
      "cell_type": "code",
      "metadata": {
        "id": "6egUKRKH850r",
        "cellView": "form"
      },
      "source": [
        "#@title Filter by GCOS ECVs\n",
        "#@markdown List of ECVs and IDs: https://docs.google.com/spreadsheets/d/13RSSiCP43_GgQl8LKeSn1jZ7yUSXiLQAgtieWKxlnLc/edit#gid=1898581132&range=A1 \n",
        "filter_by_GCOS_ECV = True #@param [\"True\", \"False\"] {type:\"raw\"}\n",
        "GCOS200_ECV_id =  26#@param {type:\"integer\"}\n",
        "\n",
        "if filter_by_GCOS_ECV:\n",
        "  tsql_GCOS = \"TypesMeasurementsWMO.gcos200ECVID = \" + str(GCOS200_ECV_id)\n",
        "  conditions = conditions + \"\"\"\n",
        "    AND \"\"\" + tsql_GCOS\n",
        "\n",
        "\n",
        "  tables = \"\"\"TypesMeasurementsWMO INNER JOIN\n",
        "      MeasurementTypes ON TypesMeasurementsWMO.measurementTypeWMOID = MeasurementTypes.measurementTypeWMOID INNER JOIN\n",
        "      Instruments ON MeasurementTypes.instrumentID = Instruments.instrumentID INNER JOIN\n",
        "      \"\"\" + tables + \"\"\" INNER JOIN\n",
        "      InstrumentsMissions ON Missions.missionID = InstrumentsMissions.missionID ON Instruments.instrumentID = InstrumentsMissions.instrumentID INNER JOIN\n",
        "      GCOS200ECVs ON TypesMeasurementsWMO.gcos200ECVID = GCOS200ECVs.gcos200ECVID\"\"\"\n",
        "\n",
        "  select = select + ', Instruments.instrumentNameShort, GCOS200ECVs.gcos200ECVNameFull'"
      ],
      "execution_count": null,
      "outputs": []
    },
    {
      "cell_type": "markdown",
      "metadata": {
        "id": "1CpQuOtc7jVH"
      },
      "source": [
        "## Execute Query Response\n",
        "\n",
        "<i>Map the query response to the field types to generate the timeline plot.</i>"
      ]
    },
    {
      "cell_type": "code",
      "metadata": {
        "id": "MZf9ncs58rJT",
        "colab": {
          "base_uri": "https://localhost:8080/"
        },
        "outputId": "1447a344-008f-45cd-8b46-31edeb7c79d1"
      },
      "source": [
        "# Execute\n",
        "t_sql = 'SELECT ' + select + \"\"\"\n",
        "FROM \"\"\" +  tables + \"\"\"\n",
        "WHERE \"\"\" + conditions\n",
        "\n",
        "print(t_sql)\n",
        "\n",
        "db_cursor_return = get_db_cursor(user, password, database, server, t_sql) "
      ],
      "execution_count": null,
      "outputs": [
        {
          "output_type": "stream",
          "name": "stdout",
          "text": [
            "SELECT Missions.missionID, Missions.missionStatusID, Missions.launchDate, Missions.eolDate, Missions.missionNameShort, Instruments.instrumentNameShort, GCOS200ECVs.gcos200ECVNameFull\n",
            "FROM TypesMeasurementsWMO INNER JOIN\n",
            "      MeasurementTypes ON TypesMeasurementsWMO.measurementTypeWMOID = MeasurementTypes.measurementTypeWMOID INNER JOIN\n",
            "      Instruments ON MeasurementTypes.instrumentID = Instruments.instrumentID INNER JOIN\n",
            "      Missions INNER JOIN\n",
            "      InstrumentsMissions ON Missions.missionID = InstrumentsMissions.missionID ON Instruments.instrumentID = InstrumentsMissions.instrumentID INNER JOIN\n",
            "      GCOS200ECVs ON TypesMeasurementsWMO.gcos200ECVID = GCOS200ECVs.gcos200ECVID\n",
            "WHERE  Missions.launchDate > '2000-09-20 00:00:00' \n",
            "    AND Missions.launchDate < '2025-07-31 00:00:00'\n",
            "    AND Missions.eolDate > '1900-07-30 00:00:00'\n",
            "    AND Missions.eolDate < '2100-07-30 00:00:00'\n",
            "    AND (NOT (Missions.missionStatusID IN (5) ))\n",
            "    AND TypesMeasurementsWMO.gcos200ECVID = 26\n"
          ]
        }
      ]
    },
    {
      "cell_type": "markdown",
      "metadata": {
        "id": "LpaeaA0ZSPna"
      },
      "source": [
        "<i> Execute the SQL database query based on the chosen filters"
      ]
    },
    {
      "cell_type": "code",
      "metadata": {
        "collapsed": true,
        "id": "uWbHZteT7jVH"
      },
      "source": [
        "# Add mission names to ylables, mission dates to customDates.\n",
        "\n",
        "mission_lables = []\n",
        "mission_info = []\n",
        "\n",
        "# Interate over DB response rows (missions) and extract needed values.\n",
        "# Noting brittle (bad practice!) of row indicies (e.g. row[5]) - could use a better solution here\n",
        "for row in db_cursor_return:\n",
        "    missionNameShort = str(row[4])\n",
        "    mission_lables.append(missionNameShort)\n",
        "    \n",
        "    mission_status = row[1]\n",
        "\n",
        "    mission_ID = row[0]\n",
        "\n",
        "    launchDate = parser.parse(str(row[2]))\n",
        "    eolDate = parser.parse(str(row[3]))\n",
        "\n",
        "    next = 5\n",
        "    if filter_by_GCOS_ECV:\n",
        "      instrument_name = str(row[5])\n",
        "      GCOS_ECV = str(row[6])\n",
        "    else:\n",
        "      instrument_name = ''  \n",
        "\n",
        "\n",
        "    mission_info.append([missionNameShort, instrument_name, launchDate, eolDate, mission_status, mission_ID])     \n",
        "      "
      ],
      "execution_count": null,
      "outputs": []
    },
    {
      "cell_type": "code",
      "metadata": {
        "id": "wuqy_1mms92b"
      },
      "source": [
        "# Close the DB cursor\n",
        "db_cursor_return.close()"
      ],
      "execution_count": null,
      "outputs": []
    },
    {
      "cell_type": "code",
      "metadata": {
        "collapsed": true,
        "id": "65hZL9MN7jVI"
      },
      "source": [
        "# Sort mission info by launch date\n",
        "missions_sorted = sorted(mission_info, key=itemgetter(2))"
      ],
      "execution_count": null,
      "outputs": []
    },
    {
      "cell_type": "markdown",
      "metadata": {
        "id": "9NAxiGycUe6K"
      },
      "source": [
        "## Create GanttChart"
      ]
    },
    {
      "cell_type": "markdown",
      "metadata": {
        "id": "W6wK0jtkUUHd"
      },
      "source": [
        "<i> Define a function for chart colours"
      ]
    },
    {
      "cell_type": "code",
      "metadata": {
        "id": "sAENIbiIUI_R"
      },
      "source": [
        "def colour_status(status):\n",
        "\n",
        "    # based off colours from database.eohandbook.com\n",
        "    current = '#1b2490' # dark blue\n",
        "    approved = '#717ce1' # light blue\n",
        "    planned = '#006400' # dark green\n",
        "    considered = '#72ae64' # light green\n",
        "\n",
        "    colours = ['white',       # 0 default\n",
        "               current,       # 1 operational (nominal)\n",
        "               approved,      # 2 approved\n",
        "               planned,       # 3 planned\n",
        "               considered,    # 4 considered\n",
        "               'red',         # 5 cancelled\n",
        "               'white',       # 6 default\n",
        "               'white',       # 7 default\n",
        "               'white',       # 8 default\n",
        "               'white',       # 9 default\n",
        "               'grey',        # 10 N/A\n",
        "               'tomato',      # 11 mission complete\n",
        "               considered,    # 12 commissioning\n",
        "               current,       # 13 operational (extended)\n",
        "               ]    \n",
        "\n",
        "    if status >= len(colours):\n",
        "      status = 0\n",
        "\n",
        "    colour = colours[status]\n",
        "    return colour\n"
      ],
      "execution_count": null,
      "outputs": []
    },
    {
      "cell_type": "markdown",
      "metadata": {
        "id": "Cpd0EwgKUQOh"
      },
      "source": [
        "<i> Create a title for the plot based on active filters"
      ]
    },
    {
      "cell_type": "code",
      "metadata": {
        "colab": {
          "base_uri": "https://localhost:8080/"
        },
        "id": "cNjWMiwZu9Sk",
        "outputId": "62167b8b-95ac-4f3d-ad66-0cce6e5c0cfd"
      },
      "source": [
        "title = ''\n",
        "\n",
        "if filter_by_agency:\n",
        "  title = title + agency\n",
        "  if filter_by_GCOS_ECV:\n",
        "    title = title + ', '    \n",
        "\n",
        "if filter_by_GCOS_ECV:\n",
        "  title = title + GCOS_ECV\n",
        "\n",
        "print(title)      "
      ],
      "execution_count": null,
      "outputs": [
        {
          "output_type": "stream",
          "name": "stdout",
          "text": [
            "Above-ground biomass\n"
          ]
        }
      ]
    },
    {
      "cell_type": "markdown",
      "metadata": {
        "id": "EAv4cOM_dcsd"
      },
      "source": [
        "<i>Define a function that makes the GanttChart"
      ]
    },
    {
      "cell_type": "code",
      "metadata": {
        "collapsed": true,
        "id": "Vbd4PcGp7jVI"
      },
      "source": [
        "def CreateMissionChart(missions_sorted, save_as_fig, year_interval):\n",
        "    \"\"\"\n",
        "        Create gantt charts with matplotlib\n",
        "        Give mission lables and dates.\n",
        "    \"\"\" \n",
        "    mission_names = [i[0] for i in missions_sorted] \n",
        "    customDates = [i[2:4] for i in missions_sorted]\n",
        "    status = [i[4] for i in missions_sorted]\n",
        "    instrument_names = [i[1] for i in missions_sorted]\n",
        "    urls = [r'http://database.eohandbook.com/database/missionsummary.aspx?missionID=' + str(i[5]) for i in missions_sorted]\n",
        "\n",
        "\n",
        "# Define labels based on user defined options\n",
        "    if ylabels_missionName and ylabels_instrumentName:\n",
        "      ylabels = [i + ' (' + j + ')' for i, j in zip(mission_names, instrument_names)]\n",
        "    elif ylabels_instrumentName:\n",
        "      ylabels = instrument_names\n",
        "    elif ylabels_missionName:\n",
        "      ylabels = mission_names\n",
        "    else:\n",
        "      ylabels = len(mission_names)*['']     \n",
        "\n",
        "    ilen=len(ylabels)\n",
        "    pos = np.arange(0.5,ilen*0.5+0.5,0.5)\n",
        "\n",
        "    size = (max(min(2*len(mission_names),30),10),0.8*len(mission_names))\n",
        "    fig = plt.figure(figsize=size)\n",
        "    ax = fig.add_subplot(111)\n",
        "\n",
        "    #for i in range(1):\n",
        "    for i in range(len(ylabels)):\n",
        "         start_date,end_date = customDates[i]\n",
        "         ax.barh((i*0.5)+0.5, (end_date - start_date).days, left=start_date, height=0.3, align='center', edgecolor='lightgreen', color=colour_status(status[i]), alpha = 0.8)       \n",
        "\n",
        "    locsy, labelsy = plt.yticks(pos,ylabels)\n",
        "    plt.setp(labelsy, fontsize = 14)\n",
        "#    ax.axis('tight')\n",
        "    ax.set_ylim(ymin = -0.1, ymax = ilen*0.5+0.5)\n",
        "    ax.grid(color = 'g', linestyle = ':')\n",
        "    ax.xaxis_date()\n",
        "    rule = rrulewrapper(YEARLY, interval=year_interval)\n",
        "    loc = RRuleLocator(rule)\n",
        "    formatter = DateFormatter(\"%Y\")\n",
        "    #formatter = DateFormatter(\"'%y\") # 'yy format\n",
        "    #formatter = DateFormatter(\"%d-%b '%y\")\n",
        "    #formatter = DateFormatter(\"%d-%b\")\n",
        "  \n",
        "    ax.xaxis.set_major_locator(loc)\n",
        "    ax.xaxis.set_major_formatter(formatter)\n",
        "    labelsx = ax.get_xticklabels()\n",
        "    plt.setp(labelsx, rotation=30, fontsize=10)\n",
        " \n",
        "    #font = font_manager.FontProperties(size='small')\n",
        "    #ax.legend(loc=1,prop=font)\n",
        " \n",
        "    ax.invert_yaxis()\n",
        "    #fig.autofmt_xdate()\n",
        "\n",
        "    handles = [mpatches.Patch(color=colour_status(1), label='Current'), mpatches.Patch(color=colour_status(2), label='Approved'), mpatches.Patch(color=colour_status(3), label='Planned'), mpatches.Patch(color=colour_status(4), label='Considered'), mpatches.Patch(color=colour_status(10), label='N/A'), mpatches.Patch(color=colour_status(11), label='Complete')]\n",
        "    plt.legend(handles=handles)\n",
        "    plt.title('ECV: ' + title, fontsize=20)\n",
        "\n",
        "    if save_as_fig:\n",
        "      filename = 'drive/MyDrive/CEOS Database Timeline: ' + title + '.jpg'\n",
        "      plt.savefig(filename)\n",
        "\n",
        "    plt.show()\n",
        "\n",
        "\n",
        "    "
      ],
      "execution_count": null,
      "outputs": []
    },
    {
      "cell_type": "markdown",
      "metadata": {
        "id": "IoNZxwnWUxpX"
      },
      "source": [
        "## Chart Output"
      ]
    },
    {
      "cell_type": "code",
      "metadata": {
        "id": "sbXBUcI2VDYk",
        "cellView": "form"
      },
      "source": [
        "#@markdown Choose what is displayed on the y_axis \n",
        "ylabels_missionName = True #@param [\"True\", \"False\"] {type:\"raw\"}\n",
        "ylabels_instrumentName = True #@param [\"True\", \"False\"] {type:\"raw\"}\n",
        "\n",
        "#@markdown Choose whether to save as figure\n",
        "save_as_fig = True #@param [\"True\", \"False\"] {type:\"raw\"}"
      ],
      "execution_count": null,
      "outputs": []
    },
    {
      "cell_type": "code",
      "metadata": {
        "scrolled": true,
        "id": "0AL7n0_N7jVI",
        "colab": {
          "base_uri": "https://localhost:8080/",
          "height": 808
        },
        "outputId": "8f8d9b88-307c-4f7a-8848-3eeca173e4fc"
      },
      "source": [
        "CreateMissionChart(missions_sorted, save_as_fig, year_interval=10)"
      ],
      "execution_count": null,
      "outputs": [
        {
          "output_type": "display_data",
          "data": {
            "image/png": "[encoded data removed]",
            "text/plain": [
              "<Figure size 2160x1152 with 1 Axes>"
            ]
          },
          "metadata": {
            "needs_background": "light"
          }
        }
      ]
    },
    {
      "cell_type": "code",
      "metadata": {
        "id": "UTe8ig2Bep8E",
        "cellView": "form"
      },
      "source": [
        "#@title Export as spreadsheet\n",
        "#@markdown Find the google sheet at https://sheets.google.com\n",
        "export_as_spreadsheet = False #@param [\"True\", \"False\"] {type:\"raw\"}\n",
        "\n",
        "if export_as_spreadsheet:\n",
        "\n",
        "  # Save data as google sheets\n",
        "  from google.colab import auth\n",
        "  auth.authenticate_user()\n",
        "\n",
        "  import gspread\n",
        "  from oauth2client.client import GoogleCredentials\n",
        "\n",
        "  gc = gspread.authorize(GoogleCredentials.get_application_default())\n",
        "\n",
        "\n",
        "\n",
        "  mission_names = ['Mission Name Short'] + [i[0] for i in missions_sorted] \n",
        "  launch_date = ['Launch Date'] + [i[2] for i in missions_sorted]\n",
        "  eol_date = ['EOL Date'] + [i[2] for i in missions_sorted]\n",
        "  status = ['Mission Status'] + [i[4] for i in missions_sorted]\n",
        "  mission_id = ['Mission ID'] + [i[5] for i in missions_sorted]\n",
        "\n",
        "  # Open our new sheet and add some data.\n",
        "  sheet_title = 'CEOS Database Timelines: ' + title\n",
        "  sh = gc.create(sheet_title)\n",
        "  worksheet = gc.open(sheet_title).sheet1\n",
        "\n",
        "  cell_list = worksheet.range('A1:A'+str(len(mission_names)))\n",
        "  for i in np.arange(len(cell_list)):\n",
        "    cell_list[i].value = mission_id[i]\n",
        "  worksheet.update_cells(cell_list)\n",
        "\n",
        "  cell_list = worksheet.range('B1:B'+str(len(mission_names)))\n",
        "  for i in np.arange(len(cell_list)):\n",
        "    cell_list[i].value = mission_names[i]\n",
        "  worksheet.update_cells(cell_list)\n",
        "\n",
        "  cell_list = worksheet.range('C1:C'+str(len(mission_names)))\n",
        "  for i in np.arange(len(cell_list)):\n",
        "    cell_list[i].value = str(launch_date[i])\n",
        "  worksheet.update_cells(cell_list)\n",
        "\n",
        "  cell_list = worksheet.range('D1:D'+str(len(mission_names)))\n",
        "  for i in np.arange(len(cell_list)):\n",
        "    cell_list[i].value = str(eol_date[i])\n",
        "  worksheet.update_cells(cell_list)\n",
        "\n",
        "  cell_list = worksheet.range('E1:E'+str(len(mission_names)))\n",
        "  for i in np.arange(len(cell_list)):\n",
        "    cell_list[i].value = status[i]\n",
        "  worksheet.update_cells(cell_list)\n",
        "\n",
        "  cell_list = worksheet.range('F1:F'+str(len(mission_names)))\n",
        "  for i in np.arange(len(cell_list)):\n",
        "    if i == 0:\n",
        "      cell_list[i].value = 'Link to Database'\n",
        "    else:\n",
        "      cell_list[i].value = r'http://database.eohandbook.com/database/missionsummary.aspx?missionID=' + str(mission_id[i])  \n",
        "  worksheet.update_cells(cell_list)\n",
        "\n",
        "  # Go to https://sheets.google.com to see your new spreadsheet."
      ],
      "execution_count": null,
      "outputs": []
    },
    {
      "cell_type": "code",
      "metadata": {
        "id": "9SHj9xcsnaAb"
      },
      "source": [
        ""
      ],
      "execution_count": null,
      "outputs": []
    }
  ]
}