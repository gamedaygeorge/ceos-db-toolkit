{
  "nbformat": 4,
  "nbformat_minor": 0,
  "metadata": {
    "kernelspec": {
      "display_name": "Python 3",
      "language": "python",
      "name": "python3"
    },
    "language_info": {
      "codemirror_mode": {
        "name": "ipython",
        "version": 3
      },
      "file_extension": ".py",
      "mimetype": "text/x-python",
      "name": "python",
      "nbconvert_exporter": "python",
      "pygments_lexer": "ipython3",
      "version": "3.5.2"
    },
    "colab": {
      "name": "Custom Timelines.ipynb",
      "provenance": [],
      "collapsed_sections": [
        "QsKWKGL-7jU5",
        "F4XrW2aEbaX5",
        "x4eJfqBrojFQ",
        "1CpQuOtc7jVH",
        "9NAxiGycUe6K"
      ],
      "include_colab_link": true
    }
  },
  "cells": [
    {
      "cell_type": "markdown",
      "metadata": {
        "id": "view-in-github",
        "colab_type": "text"
      },
      "source": [
        "<a href=\"https://colab.research.google.com/github/libbyrose/ceos-db-toolkit/blob/main/Custom_Timelines.ipynb\" target=\"_parent\"><img src=\"https://colab.research.google.com/assets/colab-badge.svg\" alt=\"Open In Colab\"/></a>"
      ]
    },
    {
      "cell_type": "markdown",
      "metadata": {
        "id": "QsKWKGL-7jU5"
      },
      "source": [
        "## Background\n",
        "\n",
        "<i>This notebook creates a custom timeline image\n",
        "    \n",
        "(1) Launch Date and EOL Range (min-max)\n",
        "\n",
        "AND\n",
        "\n",
        "(2) CustomTimelineID\n",
        "\n",
        "* The query prints a timeline of the missions that meet the specified criteria    \n",
        "    \n",
        "(Gantt chart adapted from: https://sukhbinder.wordpress.com/2016/05/10/quick-gantt-chart-with-matplotlib/)</i>"
      ]
    },
    {
      "cell_type": "code",
      "metadata": {
        "collapsed": true,
        "id": "jME6e4KQ7jU-"
      },
      "source": [
        "# Import API-related modules\n",
        "import requests\n",
        "import json\n",
        "\n",
        "# Import for Quick Gantt Chart with Matplotlib example.\n",
        "import datetime as dt\n",
        "import matplotlib.pyplot as plt\n",
        "import matplotlib.patches as mpatches\n",
        "import matplotlib.font_manager as font_manager\n",
        "import matplotlib.dates\n",
        "from matplotlib.dates import WEEKLY,MONTHLY,YEARLY, DateFormatter, rrulewrapper, RRuleLocator \n",
        "import numpy as np\n",
        "\n",
        "# Import to sort mission dates.\n",
        "from operator import itemgetter, attrgetter\n",
        "\n",
        "#Import for date conversion.\n",
        "from dateutil import parser\n",
        "import datetime\n",
        "import time\n",
        "\n",
        "#Import for SQL tables\n",
        "import pandas as pd\n",
        "from pandas import DataFrame\n"
      ],
      "execution_count": null,
      "outputs": []
    },
    {
      "cell_type": "markdown",
      "metadata": {
        "id": "xq_kUz7N8-ij"
      },
      "source": [
        "## Connect to Google Drive and the database"
      ]
    },
    {
      "cell_type": "code",
      "metadata": {
        "colab": {
          "base_uri": "https://localhost:8080/"
        },
        "id": "SR9_m4sSVkqu",
        "outputId": "734bed0f-857c-4ab9-82e4-7c9c1edc7261"
      },
      "source": [
        "from google.colab import drive\n",
        "drive.mount('/content/drive')"
      ],
      "execution_count": null,
      "outputs": [
        {
          "output_type": "stream",
          "name": "stdout",
          "text": [
            "Drive already mounted at /content/drive; to attempt to forcibly remount, call drive.mount(\"/content/drive\", force_remount=True).\n"
          ]
        }
      ]
    },
    {
      "cell_type": "markdown",
      "metadata": {
        "id": "3cVs828fVpo9"
      },
      "source": [
        "Specify the path to yml file contating database access information"
      ]
    },
    {
      "cell_type": "code",
      "metadata": {
        "colab": {
          "base_uri": "https://localhost:8080/"
        },
        "id": "Y6y7BOBWbIJS",
        "outputId": "2f5f5c6a-b323-45bf-fff1-04edeaf7d99f"
      },
      "source": [
        "# Specify the path in your local drive (use !ls and !pwd to hunt for it)\n",
        "#Libby path: \n",
        "config_path='/content/drive/MyDrive/MIM Colab/config-libby.yml'\n",
        "#George path:config_path='/content/drive/MyDrive/Colab-MIM Notebooks/config.yml'\n",
        "print('Getting CEOS Dev DB Config from: ' + config_path)"
      ],
      "execution_count": null,
      "outputs": [
        {
          "output_type": "stream",
          "name": "stdout",
          "text": [
            "Getting CEOS Dev DB Config from: /content/drive/MyDrive/MIM Colab/config-libby.yml\n"
          ]
        }
      ]
    },
    {
      "cell_type": "markdown",
      "metadata": {
        "id": "F4XrW2aEbaX5"
      },
      "source": [
        "#### Save access information"
      ]
    },
    {
      "cell_type": "code",
      "metadata": {
        "id": "4Eg_rvNB73ga"
      },
      "source": [
        "# Define SECRET database connection variables (MIM Dev DB on AWS RDS)\n",
        "# Like YAML here: https://veekaybee.github.io/2020/02/25/secrets/\n",
        "import yaml\n",
        "\n",
        "with open(config_path, 'r') as ymlfile:\n",
        "    cfg = yaml.safe_load(ymlfile)\n",
        "\n",
        "user = cfg['ceos_dev_db']['user']\n",
        "password = cfg['ceos_dev_db']['password']\n",
        "database = cfg['ceos_dev_db']['database']\n",
        "server = cfg['ceos_dev_db']['server']"
      ],
      "execution_count": null,
      "outputs": []
    },
    {
      "cell_type": "markdown",
      "metadata": {
        "id": "x4eJfqBrojFQ"
      },
      "source": [
        "#### Install DB Access Layer\n",
        "\n",
        "A few code blocks to setup the necessary software to access the CEOS DB.\n",
        "\n",
        "Define basic functions to access CEOS DB."
      ]
    },
    {
      "cell_type": "code",
      "metadata": {
        "id": "wc5LTL3N8ZXR",
        "colab": {
          "base_uri": "https://localhost:8080/"
        },
        "outputId": "7fdf55cc-bd31-4600-a9f0-33954d4d1f93"
      },
      "source": [
        "# CHECK YOUR ODC COLAB VIRTUAL MACHINE IP ADDRESS\n",
        "# The CEOS Dev DB is protected by whitelisting due to lots of attempts to query it\n",
        "# Whitelisting means you can only connect from certain IP addresses\n",
        "\n",
        "# Used this command to find the IP address of the Colab notebook (VM)\n",
        "!curl ifconfig.me\n",
        "\n",
        "# THE FOLLOWING RANGES HAVE BEEN WHITELISTED TO CONNECT TO THE AWS DATABASE\n",
        "# 34.xxx.xxx.xxx\n",
        "# 35.xxx.xxx.xxx\n",
        "# 104.xxx.xxx.xxx\n",
        "\n",
        "# IF YOUR VM IP IS NOT IN THIS RANGE* THEN IT WILL HAVE TO BE ADDED TO THE WHITELIST BEFORE IT WILL WORK (CONTACT GEORGE)\n",
        "# * As a work around, you could start a new Colab notebook (VM) to see if you can get an IP address in the whitelist range."
      ],
      "execution_count": null,
      "outputs": [
        {
          "output_type": "stream",
          "name": "stdout",
          "text": [
            "34.121.194.59"
          ]
        }
      ]
    },
    {
      "cell_type": "code",
      "metadata": {
        "id": "ZrYUWet-8cax",
        "colab": {
          "base_uri": "https://localhost:8080/"
        },
        "outputId": "8a5bb2dc-97ef-469c-8575-127ce44206a9"
      },
      "source": [
        "# Run this block to install the necessary DB interface code\n",
        "\n",
        "%%sh\n",
        "curl https://packages.microsoft.com/keys/microsoft.asc | apt-key add -\n",
        "curl https://packages.microsoft.com/config/ubuntu/16.04/prod.list > /etc/apt/sources.list.d/mssql-release.list\n",
        "\n",
        "sudo apt-get update\n",
        "sudo ACCEPT_EULA=Y apt-get -q -y install msodbcsql17"
      ],
      "execution_count": null,
      "outputs": [
        {
          "output_type": "stream",
          "name": "stdout",
          "text": [
            "OK\n",
            "Hit:1 http://security.ubuntu.com/ubuntu bionic-security InRelease\n",
            "Ign:2 https://developer.download.nvidia.com/compute/cuda/repos/ubuntu1804/x86_64  InRelease\n",
            "Ign:3 https://cloud.r-project.org/bin/linux/ubuntu bionic-cran40/ InRelease\n",
            "Hit:4 https://packages.microsoft.com/ubuntu/16.04/prod xenial InRelease\n",
            "Hit:5 http://ppa.launchpad.net/c2d4u.team/c2d4u4.0+/ubuntu bionic InRelease\n",
            "Err:6 https://cloud.r-project.org/bin/linux/ubuntu bionic-cran40/ Release\n",
            "  404  Not Found [IP: 65.8.48.97 443]\n",
            "Ign:7 https://developer.download.nvidia.com/compute/machine-learning/repos/ubuntu1804/x86_64  InRelease\n",
            "Hit:8 https://developer.download.nvidia.com/compute/cuda/repos/ubuntu1804/x86_64  Release\n",
            "Hit:9 https://developer.download.nvidia.com/compute/machine-learning/repos/ubuntu1804/x86_64  Release\n",
            "Hit:10 http://archive.ubuntu.com/ubuntu bionic InRelease\n",
            "Hit:11 http://archive.ubuntu.com/ubuntu bionic-updates InRelease\n",
            "Hit:12 http://ppa.launchpad.net/cran/libgit2/ubuntu bionic InRelease\n",
            "Hit:14 http://archive.ubuntu.com/ubuntu bionic-backports InRelease\n",
            "Hit:16 http://ppa.launchpad.net/deadsnakes/ppa/ubuntu bionic InRelease\n",
            "Hit:17 http://ppa.launchpad.net/graphics-drivers/ppa/ubuntu bionic InRelease\n",
            "Reading package lists...\n",
            "Reading package lists...\n",
            "Building dependency tree...\n",
            "Reading state information...\n",
            "msodbcsql17 is already the newest version (17.8.1.1-1).\n",
            "0 upgraded, 0 newly installed, 0 to remove and 78 not upgraded.\n"
          ]
        },
        {
          "output_type": "stream",
          "name": "stderr",
          "text": [
            "  % Total    % Received % Xferd  Average Speed   Time    Time     Time  Current\n",
            "                                 Dload  Upload   Total   Spent    Left  Speed\n",
            "\r  0     0    0     0    0     0      0      0 --:--:-- --:--:-- --:--:--     0Warning: apt-key output should not be parsed (stdout is not a terminal)\n",
            "\r100   983  100   983    0     0   3425      0 --:--:-- --:--:-- --:--:--  3425\n",
            "  % Total    % Received % Xferd  Average Speed   Time    Time     Time  Current\n",
            "                                 Dload  Upload   Total   Spent    Left  Speed\n",
            "\r  0     0    0     0    0     0      0      0 --:--:-- --:--:-- --:--:--     0\r100    79  100    79    0     0    500      0 --:--:-- --:--:-- --:--:--   503\n",
            "E: The repository 'https://cloud.r-project.org/bin/linux/ubuntu bionic-cran40/ Release' no longer has a Release file.\n"
          ]
        }
      ]
    },
    {
      "cell_type": "code",
      "metadata": {
        "id": "ZNrS3_TH8gZ4",
        "colab": {
          "base_uri": "https://localhost:8080/"
        },
        "outputId": "5db5da56-d39b-48ca-e459-549f317f07c3"
      },
      "source": [
        "# Run this block to install the Python library to connect to the DB\n",
        "!pip install pyodbc"
      ],
      "execution_count": null,
      "outputs": [
        {
          "output_type": "stream",
          "name": "stdout",
          "text": [
            "Requirement already satisfied: pyodbc in /usr/local/lib/python3.7/dist-packages (4.0.32)\n"
          ]
        }
      ]
    },
    {
      "cell_type": "code",
      "metadata": {
        "id": "2udBnjZ_W5Uq"
      },
      "source": [
        "# This this block to import the 'pyodbc' library\n",
        "# pyodbc is used to connect Python (notebook) to the CEOS DB\n",
        "# This import statment is how we include it when we're working on a local server\n",
        "import pyodbc"
      ],
      "execution_count": null,
      "outputs": []
    },
    {
      "cell_type": "code",
      "metadata": {
        "id": "Dwj0JNEeaFMi"
      },
      "source": [
        "# Function to get DB cursor return\n",
        "def get_db_cursor(user, password, database, server, t_sql):\n",
        "  conn = pyodbc.connect(DRIVER = '{ODBC Driver 17 for SQL Server}',\n",
        "                      SERVER = server,\n",
        "                      DATABASE = database,\n",
        "                      UID = user,\n",
        "                      PWD = password)\n",
        "\n",
        "  db_cursor = conn.cursor()\n",
        "  db_cursor.execute(t_sql)\n",
        "\n",
        "  return db_cursor"
      ],
      "execution_count": null,
      "outputs": []
    },
    {
      "cell_type": "code",
      "metadata": {
        "collapsed": true,
        "id": "B1_FX8db7jU-"
      },
      "source": [
        "# Function that creates date variable.\n",
        "def _create_date(datetxt):\n",
        "    \"\"\"Creates the date\"\"\"\n",
        "    day,month,year=datetxt.split('-')\n",
        "    date = dt.datetime(int(year), int(month), int(day))\n",
        "    mdate = matplotlib.dates.date2num(date) \n",
        "    return mdate"
      ],
      "execution_count": null,
      "outputs": []
    },
    {
      "cell_type": "markdown",
      "metadata": {
        "id": "u9r02VAV7jU_"
      },
      "source": [
        "## Select required filters\n",
        "\n"
      ]
    },
    {
      "cell_type": "code",
      "metadata": {
        "id": "cLhBaAp30cAM",
        "cellView": "form"
      },
      "source": [
        "#@title Define launch and EOL date ranges\n",
        "\n",
        "launch_date_from = \"1990-07-16\" #@param {type:\"date\"}\n",
        "launch_date_to = \"2030-07-31\" #@param {type:\"date\"}\n",
        "# Launch date window (Y,M,D)\n",
        "launch_date_start = datetime.datetime(int(launch_date_from.split('-')[0]),int(launch_date_from.split('-')[1]),int(launch_date_from.split('-')[2]))\n",
        "launch_date_end = datetime.datetime(int(launch_date_to.split('-')[0]),int(launch_date_to.split('-')[1]),int(launch_date_to.split('-')[2]))\n",
        "\n",
        "tsql_launchdate = \"\"\" Missions.launchDate > \"\"\" + \"\\'\" + str(launch_date_start) + \"\\'\" + \"\"\" \n",
        "    AND Missions.launchDate < \"\"\" + \"\\'\" + str(launch_date_end) + \"\\'\"\n",
        "\n",
        "# EOL date window (Y,M,D)\n",
        "\n",
        "EOL_date_from = \"1900-07-30\" #@param {type:\"date\"}\n",
        "EOL_date_to = \"2100-07-30\" #@param {type:\"date\"}\n",
        "\n",
        "eol_date_start = datetime.datetime(int(EOL_date_from.split('-')[0]),int(EOL_date_from.split('-')[1]),int(EOL_date_from.split('-')[2]))\n",
        "eol_date_end = datetime.datetime(int(EOL_date_to.split('-')[0]),int(EOL_date_to.split('-')[1]),int(EOL_date_to.split('-')[2]))\n",
        "\n",
        "tsql_eoldate = \"\"\"Missions.eolDate > \"\"\" + \"\\'\" + str(eol_date_start) + \"\\'\" + \"\"\"\n",
        "    AND Missions.eolDate < \"\"\" + \"\\'\" + str(eol_date_end) + \"\\'\"\n",
        "\n",
        "# start of query string\n",
        "select = 'Missions.missionID, Missions.missionStatusID, Missions.launchDate, Missions.eolDate, Missions.missionNameShort'\n",
        "tables = 'Missions'\n",
        "conditions = '(' + tsql_launchdate + \"\"\"\n",
        "    AND \"\"\" + tsql_eoldate "
      ],
      "execution_count": null,
      "outputs": []
    },
    {
      "cell_type": "code",
      "metadata": {
        "id": "BvF1QqnRG9iP",
        "cellView": "form"
      },
      "source": [
        "#@title Filter out cancelled missions (or other specific statuses)\n",
        "#@markdown List of statuses and IDs: https://docs.google.com/spreadsheets/d/13RSSiCP43_GgQl8LKeSn1jZ7yUSXiLQAgtieWKxlnLc/edit#gid=0&range=A1 \n",
        "filter_by_status = True #@param [\"True\", \"False\"] {type:\"raw\"}\n",
        "exclude_status_id = 5 #@param {type:\"raw\"}\n",
        "\n",
        "if filter_by_status:\n",
        "  if len(str(exclude_status_id).split(',')) == 1:\n",
        "    tsql_status = \"(NOT (Missions.missionStatusID IN (\" + str(exclude_status_id) + \") ))\"\n",
        "  else:\n",
        "    tsql_status = \"(NOT (Missions.missionStatusID IN \" + str(exclude_status_id) + \" ))\"\n",
        "    \n",
        "  conditions =  conditions + \"\"\"\n",
        "    AND \"\"\" + tsql_status"
      ],
      "execution_count": null,
      "outputs": []
    },
    {
      "cell_type": "code",
      "metadata": {
        "id": "Dd26hdC70kqC",
        "cellView": "form"
      },
      "source": [
        "#@title Custom Timeline ID \n",
        "#@markdown 20=Public GHG Missions, 21=Private GHG Missions\n",
        "filter_by_custom_timeline = True #@param [\"True\", \"False\"] {type:\"raw\"}\n",
        "custom_timeline_ID =  20#@param {type:\"integer\"}\n",
        "\n",
        "if filter_by_custom_timeline:\n",
        "  tsql_custom_timeline = 'CustomTimelines.customTimelineID = ' + str(custom_timeline_ID)\n",
        "  conditions = conditions + \"\"\"\n",
        "    AND \"\"\" + tsql_custom_timeline +')'\n",
        "\n",
        "  tables = tables + ''' INNER JOIN\n",
        "         CustomTimelineMissions ON Missions.missionID = CustomTimelineMissions.missionID LEFT OUTER JOIN\n",
        "         Instruments ON CustomTimelineMissions.instrumentID5 = Instruments.instrumentID LEFT OUTER JOIN\n",
        "         Instruments AS Instruments_4 ON CustomTimelineMissions.instrumentID4 = Instruments_4.instrumentID LEFT OUTER JOIN\n",
        "         Instruments AS Instruments_3 ON CustomTimelineMissions.instrumentID3 = Instruments_3.instrumentID LEFT OUTER JOIN\n",
        "         Instruments AS Instruments_1 ON CustomTimelineMissions.instrumentID2 = Instruments_1.instrumentID LEFT OUTER JOIN\n",
        "         Instruments AS Instruments_2 ON CustomTimelineMissions.instrumentID1 = Instruments_2.instrumentID LEFT OUTER JOIN\n",
        "         CustomTimelines ON CustomTimelineMissions.customTimelineID = CustomTimelines.customTimelineID'''\n",
        "  select = select + ''', CustomTimelines.customTimelineID, CustomTimelines.timelineName, \n",
        "           ISNULL(CustomTimelineMissions.customName, Missions.missionNameShort) AS missionNameShort, \n",
        "           CustomTimelineMissions.instrumentID1, ISNULL(CustomTimelineMissions.instrument1CustomName, Instruments_2.instrumentNameShort) AS instrument1CustomName, \n",
        "           CustomTimelineMissions.instrumentID2, ISNULL(CustomTimelineMissions.instrument2CustomName, Instruments_1.instrumentNameShort) AS instrument2CustomName, \n",
        "           CustomTimelineMissions.instrumentID3, ISNULL(CustomTimelineMissions.instrument3CustomName, Instruments_3.instrumentNameShort) AS instrument3CustomName, \n",
        "           CustomTimelineMissions.instrumentID4, ISNULL(CustomTimelineMissions.instrument4CustomName, Instruments_4.instrumentNameShort) AS instrument4CustomName, \n",
        "           CustomTimelineMissions.instrumentID5, ISNULL(CustomTimelineMissions.instrument5CustomName, Instruments.instrumentNameShort) AS instrument5CustomName '''"
      ],
      "execution_count": null,
      "outputs": []
    },
    {
      "cell_type": "code",
      "metadata": {
        "id": "cB7ciW0VILL0",
        "cellView": "form"
      },
      "source": [
        "#@title Exclude specific missions\n",
        "exclude_missions = True #@param [\"True\", \"False\"] {type:\"raw\"}\n",
        "missionID_exclude = 678 #@param {type:\"raw\"}\n",
        "\n",
        "if exclude_missions:\n",
        "  if len(str(missionID_exclude).split(',')) == 1:\n",
        "    tsql_missionexclude = \"(NOT (Missions.missionID IN (\" + str(missionID_exclude) + \") ))\"\n",
        "  else:\n",
        "    tsql_missionexclude = \"(NOT (Missions.missionID IN \" + str(missionID_exclude) + \" ))\"\n",
        "  \n",
        "  conditions = conditions + \"\"\"\n",
        "    AND \"\"\" + tsql_missionexclude"
      ],
      "execution_count": null,
      "outputs": []
    },
    {
      "cell_type": "code",
      "metadata": {
        "id": "b7gUEam-1uUL",
        "cellView": "form"
      },
      "source": [
        "#@title Include other missions\n",
        "include_missions = False #@param [\"True\", \"False\"] {type:\"raw\"}\n",
        "missionID_include = 4 #@param {type:\"raw\"}\n",
        "\n",
        "if include_missions:\n",
        "  if len(str(missionID_include).split(',')) == 1:\n",
        "    tsql_missioninclude = \"(Missions.missionID IN (\" + str(missionID_include) + \") )\"\n",
        "  else:\n",
        "    tsql_missioninclude = \"(Missions.missionID IN \" + str(missionID_include) + \" )\"\n",
        "  \n",
        "  conditions = conditions + \"\"\"\n",
        "    OR \"\"\" + tsql_missioninclude"
      ],
      "execution_count": null,
      "outputs": []
    },
    {
      "cell_type": "markdown",
      "metadata": {
        "id": "1CpQuOtc7jVH"
      },
      "source": [
        "## Execute Query Response\n",
        "\n",
        "<i>Map the query response to the field types to generate the timeline plot.</i>"
      ]
    },
    {
      "cell_type": "code",
      "metadata": {
        "id": "MZf9ncs58rJT",
        "colab": {
          "base_uri": "https://localhost:8080/"
        },
        "outputId": "a4d14ffb-4227-462c-d096-0fc8a76ab192"
      },
      "source": [
        "\n",
        "# Execute\n",
        "t_sql = 'SELECT ' + select + \"\"\"\n",
        "FROM \"\"\" +  tables + \"\"\"\n",
        "WHERE \"\"\" + conditions\n",
        "\n",
        "print(t_sql)\n",
        "\n",
        "db_cursor_return = get_db_cursor(user, password, database, server, t_sql) "
      ],
      "execution_count": null,
      "outputs": [
        {
          "output_type": "stream",
          "name": "stdout",
          "text": [
            "SELECT Missions.missionID, Missions.missionStatusID, Missions.launchDate, Missions.eolDate, Missions.missionNameShort, CustomTimelines.customTimelineID, CustomTimelines.timelineName, \n",
            "           ISNULL(CustomTimelineMissions.customName, Missions.missionNameShort) AS missionNameShort, \n",
            "           CustomTimelineMissions.instrumentID1, ISNULL(CustomTimelineMissions.instrument1CustomName, Instruments_2.instrumentNameShort) AS instrument1CustomName, \n",
            "           CustomTimelineMissions.instrumentID2, ISNULL(CustomTimelineMissions.instrument2CustomName, Instruments_1.instrumentNameShort) AS instrument2CustomName, \n",
            "           CustomTimelineMissions.instrumentID3, ISNULL(CustomTimelineMissions.instrument3CustomName, Instruments_3.instrumentNameShort) AS instrument3CustomName, \n",
            "           CustomTimelineMissions.instrumentID4, ISNULL(CustomTimelineMissions.instrument4CustomName, Instruments_4.instrumentNameShort) AS instrument4CustomName, \n",
            "           CustomTimelineMissions.instrumentID5, ISNULL(CustomTimelineMissions.instrument5CustomName, Instruments.instrumentNameShort) AS instrument5CustomName \n",
            "FROM Missions INNER JOIN\n",
            "         CustomTimelineMissions ON Missions.missionID = CustomTimelineMissions.missionID LEFT OUTER JOIN\n",
            "         Instruments ON CustomTimelineMissions.instrumentID5 = Instruments.instrumentID LEFT OUTER JOIN\n",
            "         Instruments AS Instruments_4 ON CustomTimelineMissions.instrumentID4 = Instruments_4.instrumentID LEFT OUTER JOIN\n",
            "         Instruments AS Instruments_3 ON CustomTimelineMissions.instrumentID3 = Instruments_3.instrumentID LEFT OUTER JOIN\n",
            "         Instruments AS Instruments_1 ON CustomTimelineMissions.instrumentID2 = Instruments_1.instrumentID LEFT OUTER JOIN\n",
            "         Instruments AS Instruments_2 ON CustomTimelineMissions.instrumentID1 = Instruments_2.instrumentID LEFT OUTER JOIN\n",
            "         CustomTimelines ON CustomTimelineMissions.customTimelineID = CustomTimelines.customTimelineID\n",
            "WHERE ( Missions.launchDate > '1990-07-16 00:00:00' \n",
            "    AND Missions.launchDate < '2030-07-31 00:00:00'\n",
            "    AND Missions.eolDate > '1900-07-30 00:00:00'\n",
            "    AND Missions.eolDate < '2100-07-30 00:00:00'\n",
            "    AND (NOT (Missions.missionStatusID IN (5) ))\n",
            "    AND CustomTimelines.customTimelineID = 20)\n",
            "    AND (NOT (Missions.missionID IN (678) ))\n"
          ]
        }
      ]
    },
    {
      "cell_type": "markdown",
      "metadata": {
        "id": "LpaeaA0ZSPna"
      },
      "source": [
        "<i> Execute the SQL database query based on the chosen filters"
      ]
    },
    {
      "cell_type": "code",
      "metadata": {
        "collapsed": true,
        "id": "uWbHZteT7jVH"
      },
      "source": [
        "# Add mission names to ylables, mission dates to customDates.\n",
        "\n",
        "mission_info = []\n",
        "instrument_names = []\n",
        "\n",
        "\n",
        "# Interate over DB response rows (missions) and extract needed values.\n",
        "# Noting brittle (bad practice!) of row indicies (e.g. row[5]) - could use a better solution here\n",
        "for row in db_cursor_return:\n",
        "    mission_ID = row[0]\n",
        "    mission_status = row[1]\n",
        "    launchDate = parser.parse(str(row[2]))\n",
        "    eolDate = parser.parse(str(row[3]))\n",
        "\n",
        "    missionNameShort = str(row[4])\n",
        "\n",
        "\n",
        "    timelineid = row[5]\n",
        "    if filter_by_custom_timeline:\n",
        "      if timelineid == custom_timeline_ID:\n",
        "        timeline_name = str(row[6])\n",
        "\n",
        "\n",
        "    mission_info.append([missionNameShort, launchDate, eolDate, mission_status, mission_ID])     \n",
        "\n",
        "    instruments = []\n",
        "    if row[8] != None:\n",
        "      instruments.append(str(row[9]))\n",
        "      if row[10] != None:\n",
        "          instruments.append(str(row[11]))\n",
        "          if row[12] != None:\n",
        "              instruments.append(str(row[13]))\n",
        "              if row[14] != None:\n",
        "                  instruments.append(str(row[15]))\n",
        "                  if row[16] != None:\n",
        "                     instruments.append(str(row[17]))\n",
        " \n",
        "\n",
        "    instrument_names.append([launchDate, instruments])\n",
        "      "
      ],
      "execution_count": null,
      "outputs": []
    },
    {
      "cell_type": "code",
      "metadata": {
        "id": "wuqy_1mms92b"
      },
      "source": [
        "# Close the DB cursor\n",
        "db_cursor_return.close()"
      ],
      "execution_count": null,
      "outputs": []
    },
    {
      "cell_type": "code",
      "metadata": {
        "collapsed": true,
        "id": "65hZL9MN7jVI"
      },
      "source": [
        "# Sort mission info by launch date\n",
        "missions_sorted = sorted(mission_info, key=itemgetter(1))\n",
        "instrument_names_sorted = sorted(instrument_names, key=itemgetter(0))"
      ],
      "execution_count": null,
      "outputs": []
    },
    {
      "cell_type": "markdown",
      "metadata": {
        "id": "9NAxiGycUe6K"
      },
      "source": [
        "## Create GanttChart"
      ]
    },
    {
      "cell_type": "markdown",
      "metadata": {
        "id": "W6wK0jtkUUHd"
      },
      "source": [
        "<i> Define a function for chart colours"
      ]
    },
    {
      "cell_type": "code",
      "metadata": {
        "id": "sAENIbiIUI_R"
      },
      "source": [
        "def colour_status(status):\n",
        "\n",
        "    # based off colours from database.eohandbook.com\n",
        "    current = '#1b2490' # dark blue\n",
        "    approved = '#717ce1' # light blue\n",
        "    planned = '#006400' # dark green\n",
        "    considered = '#72ae64' # light green\n",
        "\n",
        "    colours = ['white',       # 0 default\n",
        "               current,       # 1 operational (nominal)\n",
        "               approved,      # 2 approved\n",
        "               planned,       # 3 planned\n",
        "               considered,    # 4 considered\n",
        "               'red',         # 5 cancelled\n",
        "               'white',       # 6 default\n",
        "               'white',       # 7 default\n",
        "               'white',       # 8 default\n",
        "               'white',       # 9 default\n",
        "               'grey',        # 10 N/A\n",
        "               'tomato',      # 11 mission complete\n",
        "               considered,    # 12 commissioning\n",
        "               current,       # 13 operational (extended)\n",
        "               ]    \n",
        "\n",
        "    if status >= len(colours):\n",
        "      status = 0\n",
        "\n",
        "    colour = colours[status]\n",
        "    return colour\n"
      ],
      "execution_count": null,
      "outputs": []
    },
    {
      "cell_type": "markdown",
      "metadata": {
        "id": "Cpd0EwgKUQOh"
      },
      "source": [
        "<i> Create a title for the plot based on active filters"
      ]
    },
    {
      "cell_type": "code",
      "metadata": {
        "colab": {
          "base_uri": "https://localhost:8080/"
        },
        "id": "cNjWMiwZu9Sk",
        "outputId": "570d65a8-d442-4c40-b8c0-1738486e70a3"
      },
      "source": [
        "title = ''\n",
        "\n",
        "if filter_by_custom_timeline:\n",
        "  title = title + timeline_name\n",
        "print(title)      "
      ],
      "execution_count": null,
      "outputs": [
        {
          "output_type": "stream",
          "name": "stdout",
          "text": [
            "Public GHG Missions\n"
          ]
        }
      ]
    },
    {
      "cell_type": "markdown",
      "metadata": {
        "id": "EAv4cOM_dcsd"
      },
      "source": [
        "<i>Define a function that makes the GanttChart"
      ]
    },
    {
      "cell_type": "code",
      "metadata": {
        "collapsed": true,
        "id": "Vbd4PcGp7jVI"
      },
      "source": [
        "def CreateMissionChart(missions_sorted, save_as_fig, instrument_names_sorted, year_interval):\n",
        "    \"\"\"\n",
        "        Create gantt charts with matplotlib\n",
        "        Give mission lables and dates.\n",
        "    \"\"\" \n",
        "    mission_names = [i[0] for i in missions_sorted] \n",
        "    customDates = [i[1:3] for i in missions_sorted]\n",
        "    status = [i[3] for i in missions_sorted]\n",
        "\n",
        "    instrument_names = [i[1] for i in instrument_names_sorted]\n",
        "\n",
        "    ylabels = [i + ' ' + str(j) for i, j in zip(mission_names, instrument_names)]\n",
        "\n",
        "    ilen=len(ylabels)\n",
        "    pos = np.arange(0.5,ilen*0.5+0.5,0.5)\n",
        "\n",
        "    size = (max(min(2*len(mission_names),30),10),0.8*len(mission_names))\n",
        "    fig = plt.figure(figsize=size)\n",
        "    ax = fig.add_subplot(111)\n",
        "\n",
        "    #for i in range(1):\n",
        "    for i in range(len(ylabels)):\n",
        "         start_date,end_date = customDates[i]\n",
        "         ax.barh((i*0.5)+0.5, (end_date - start_date).days, left=start_date, height=0.3, align='center', edgecolor='lightgreen', color=colour_status(status[i]), alpha = 0.8)       \n",
        "\n",
        "    locsy, labelsy = plt.yticks(pos,ylabels)\n",
        "    plt.setp(labelsy, fontsize = 14)\n",
        "#    ax.axis('tight')\n",
        "    ax.set_ylim(ymin = -0.1, ymax = ilen*0.5+0.5)\n",
        "    ax.grid(color = 'g', linestyle = ':')\n",
        "    ax.xaxis_date()\n",
        "    rule = rrulewrapper(YEARLY, interval=year_interval)\n",
        "    loc = RRuleLocator(rule)\n",
        "    formatter = DateFormatter(\"%Y\")\n",
        "    #formatter = DateFormatter(\"'%y\") # 'yy format\n",
        "    #formatter = DateFormatter(\"%d-%b '%y\")\n",
        "    #formatter = DateFormatter(\"%d-%b\")\n",
        "  \n",
        "    ax.xaxis.set_major_locator(loc)\n",
        "    ax.xaxis.set_major_formatter(formatter)\n",
        "    labelsx = ax.get_xticklabels()\n",
        "    plt.setp(labelsx, rotation=30, fontsize=10)\n",
        " \n",
        "    #font = font_manager.FontProperties(size='small')\n",
        "    #ax.legend(loc=1,prop=font)\n",
        " \n",
        "    ax.invert_yaxis()\n",
        "    #fig.autofmt_xdate()\n",
        "\n",
        "    handles = [mpatches.Patch(color=colour_status(1), label='Current'), mpatches.Patch(color=colour_status(2), label='Approved'), mpatches.Patch(color=colour_status(3), label='Planned'), mpatches.Patch(color=colour_status(4), label='Considered'), mpatches.Patch(color=colour_status(10), label='N/A'), mpatches.Patch(color=colour_status(11), label='Complete')]\n",
        "    plt.legend(handles=handles)\n",
        "    plt.title(title, fontsize=20)\n",
        "\n",
        "    if save_as_fig:\n",
        "      filename = 'drive/MyDrive/CEOS Database Timeline: ' + title + '.jpg'\n",
        "      plt.savefig(filename)\n",
        "\n",
        "    plt.show()\n",
        "\n",
        "\n",
        "    "
      ],
      "execution_count": null,
      "outputs": []
    },
    {
      "cell_type": "markdown",
      "metadata": {
        "id": "IoNZxwnWUxpX"
      },
      "source": [
        "## Chart Output"
      ]
    },
    {
      "cell_type": "code",
      "metadata": {
        "id": "sbXBUcI2VDYk",
        "cellView": "form"
      },
      "source": [
        "#@markdown Choose whether to save as figure - find the figure in your Drive\n",
        "\n",
        "save_as_fig = False #@param [\"True\", \"False\"] {type:\"raw\"}"
      ],
      "execution_count": null,
      "outputs": []
    },
    {
      "cell_type": "code",
      "metadata": {
        "scrolled": true,
        "id": "0AL7n0_N7jVI",
        "colab": {
          "base_uri": "https://localhost:8080/",
          "height": 747
        },
        "outputId": "78e0505d-6664-41d0-e4a8-ef4d99016d5c"
      },
      "source": [
        "CreateMissionChart(missions_sorted, save_as_fig, instrument_names_sorted, year_interval=10)"
      ],
      "execution_count": null,
      "outputs": [
        {
          "output_type": "display_data",
          "data": {
            "image/png": "[encoded data removed]",
            "text/plain": [
              "<Figure size 2160x1382.4 with 1 Axes>"
            ]
          },
          "metadata": {
            "needs_background": "light"
          }
        }
      ]
    },
    {
      "cell_type": "code",
      "metadata": {
        "id": "UTe8ig2Bep8E",
        "cellView": "form"
      },
      "source": [
        "#@title Export as spreadsheet\n",
        "#@markdown Find the google sheet at https://sheets.google.com\n",
        "export_as_spreadsheet = \"False\" #@param [\"True\", \"False\"]\n",
        "\n",
        "if export_as_spreadsheet:\n",
        "\n",
        "  # Save data as google sheets\n",
        "  from google.colab import auth\n",
        "  auth.authenticate_user()\n",
        "\n",
        "  import gspread\n",
        "  from oauth2client.client import GoogleCredentials\n",
        "\n",
        "  gc = gspread.authorize(GoogleCredentials.get_application_default())\n",
        "\n",
        "\n",
        "  mission_names = ['Mission Name Short'] + [i[0] for i in missions_sorted] \n",
        "  launch_date = ['Launch Date'] + [i[1] for i in missions_sorted]\n",
        "  eol_date = ['EOL Date'] + [i[2] for i in missions_sorted]\n",
        "  status = ['Mission Status'] + [i[3] for i in missions_sorted]\n",
        "  mission_id = ['Mission ID'] + [i[4] for i in missions_sorted]\n",
        "\n",
        "  # Open our new sheet and add some data.\n",
        "  sheet_title = 'CEOS Database Timelines: ' + title\n",
        "  sh = gc.create(sheet_title)\n",
        "  worksheet = gc.open(sheet_title).sheet1\n",
        "\n",
        "  cell_list = worksheet.range('A1:A'+str(len(mission_names)))\n",
        "  for i in np.arange(len(cell_list)):\n",
        "    cell_list[i].value = mission_id[i]\n",
        "  worksheet.update_cells(cell_list)\n",
        "\n",
        "  cell_list = worksheet.range('B1:B'+str(len(mission_names)))\n",
        "  for i in np.arange(len(cell_list)):\n",
        "    cell_list[i].value = mission_names[i]\n",
        "  worksheet.update_cells(cell_list)\n",
        "\n",
        "  cell_list = worksheet.range('C1:C'+str(len(mission_names)))\n",
        "  for i in np.arange(len(cell_list)):\n",
        "    cell_list[i].value = str(launch_date[i])\n",
        "  worksheet.update_cells(cell_list)\n",
        "\n",
        "  cell_list = worksheet.range('D1:D'+str(len(mission_names)))\n",
        "  for i in np.arange(len(cell_list)):\n",
        "    cell_list[i].value = str(eol_date[i])\n",
        "  worksheet.update_cells(cell_list)\n",
        "\n",
        "  cell_list = worksheet.range('E1:E'+str(len(mission_names)))\n",
        "  for i in np.arange(len(cell_list)):\n",
        "    cell_list[i].value = status[i]\n",
        "  worksheet.update_cells(cell_list)\n",
        "\n",
        "  cell_list = worksheet.range('F1:F'+str(len(mission_names)))\n",
        "  for i in np.arange(len(cell_list)):\n",
        "    if i == 0:\n",
        "      cell_list[i].value = 'Link to Database'\n",
        "    else:\n",
        "      cell_list[i].value = r'http://database.eohandbook.com/database/missionsummary.aspx?missionID=' + str(mission_id[i])  \n",
        "  worksheet.update_cells(cell_list)\n",
        "\n",
        "  # Go to https://sheets.google.com to see your new spreadsheet."
      ],
      "execution_count": null,
      "outputs": []
    },
    {
      "cell_type": "code",
      "metadata": {
        "id": "9SHj9xcsnaAb"
      },
      "source": [
        ""
      ],
      "execution_count": null,
      "outputs": []
    }
  ]
}
